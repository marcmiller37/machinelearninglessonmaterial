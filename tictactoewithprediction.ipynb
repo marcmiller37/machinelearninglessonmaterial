{
 "cells": [
  {
   "cell_type": "code",
   "execution_count": 1,
   "id": "99d09153-2a1c-4d2a-8cc4-272c6734e86c",
   "metadata": {},
   "outputs": [],
   "source": [
    "import tensorflow as tf\n",
    "from tensorflow import keras\n",
    "from tensorflow.keras import datasets, layers, models\n",
    "import matplotlib.pyplot as plt\n",
    "import numpy as np\n",
    "from tensorflow.keras.optimizers import SGD\n"
   ]
  },
  {
   "cell_type": "code",
   "execution_count": 2,
   "id": "64df1e5a-11cd-44df-997f-a88d049a27c7",
   "metadata": {},
   "outputs": [
    {
     "name": "stdout",
     "output_type": "stream",
     "text": [
      "['1, 1, 5, 4, 3, 0, 8, 7', '-1, 4, 8, 1, 6, 0, 2, 3, 5', '-1, 4, 3, 5, 0, 7, 1, 6, 2', '-1, 7, 0, 5, 8, 6, 4', '-1, 6, 5, 0, 8, 1, 4, 7, 2', '1, 5, 4, 7, 3, 2, 0, 6, 1, 8', '1, 4, 0, 8, 3, 7, 5, 6', '1, 4, 3, 8, 5, 1, 7, 2, 0, 6', '1, 4, 6, 5, 2, 3', '-1, 5, 4, 0, 1, 2, 7']\n"
     ]
    }
   ],
   "source": [
    "with open(\"history.txt\",'r') as historyFile:\n",
    "        lines = historyFile.readlines()\n",
    "        gamehistory=[]\n",
    "        for x in lines:\n",
    "            x=x[1:]\n",
    "            x=x[:-2]\n",
    "            gamehistory.append(x)\n",
    "        print(gamehistory)\n",
    "\n",
    "        "
   ]
  },
  {
   "cell_type": "code",
   "execution_count": 3,
   "id": "a0104fb8-079a-4f09-9b46-faf73285ec8f",
   "metadata": {},
   "outputs": [
    {
     "name": "stdout",
     "output_type": "stream",
     "text": [
      "[-1, -1, -1, -1, -1]\n",
      "['1, 4, 8, 1, 6, 0, 2, 3, 5', '1, 4, 3, 5, 0, 7, 1, 6, 2', '1, 7, 0, 5, 8, 6, 4', '1, 6, 5, 0, 8, 1, 4, 7, 2', '1, 5, 4, 0, 1, 2, 7']\n"
     ]
    }
   ],
   "source": [
    "inputGame=[]\n",
    "output=[]\n",
    "\n",
    "for games in gamehistory:\n",
    "    if(games[0]=='-'):\n",
    "        inputGame.append(-1)\n",
    "        output.append(games[1:])\n",
    "    \n",
    "print(inputGame)\n",
    "print(output)"
   ]
  },
  {
   "cell_type": "code",
   "execution_count": 4,
   "id": "71aea3c1-88d9-416b-8716-4efde01297c3",
   "metadata": {},
   "outputs": [],
   "source": [
    "def createData(dataset):\n",
    "        inputGame = []\n",
    "        output = []\n",
    "        for data in dataset:\n",
    "            inputGame.append(data[1])\n",
    "            output.append(data[0])\n",
    "\n",
    "        X = np.array(inputGame).reshape((-1, len(inputGame)))\n",
    "        y = to_categorical(output, num_classes=3)\n",
    "        # Train and test data split\n",
    "        boundary = int(0.8 * len(X))\n",
    "        x_train = X[:boundary]\n",
    "        x_test = X[boundary:]\n",
    "        y_train = y[:boundary]\n",
    "        y_test = y[boundary:]\n"
   ]
  },
  {
   "cell_type": "code",
   "execution_count": 5,
   "id": "2d49c1d6-1051-4f33-b509-12f18ac5dd9f",
   "metadata": {},
   "outputs": [
    {
     "name": "stdout",
     "output_type": "stream",
     "text": [
      "Model: \"sequential\"\n",
      "_________________________________________________________________\n",
      "Layer (type)                 Output Shape              Param #   \n",
      "=================================================================\n",
      "dense (Dense)                (None, 18)                180       \n",
      "_________________________________________________________________\n",
      "dropout (Dropout)            (None, 18)                0         \n",
      "_________________________________________________________________\n",
      "dense_1 (Dense)              (None, 9)                 171       \n",
      "_________________________________________________________________\n",
      "dropout_1 (Dropout)          (None, 9)                 0         \n",
      "_________________________________________________________________\n",
      "dense_2 (Dense)              (None, 1)                 10        \n",
      "=================================================================\n",
      "Total params: 361\n",
      "Trainable params: 361\n",
      "Non-trainable params: 0\n",
      "_________________________________________________________________\n"
     ]
    }
   ],
   "source": [
    "model = keras.Sequential()\n",
    "model.add(layers.Dense(18, input_dim=9,kernel_initializer='normal', activation='relu'))\n",
    "model.add(layers.Dropout(0.1))\n",
    "model.add(layers.Dense(9, kernel_initializer='normal',activation='relu'))\n",
    "model.add(layers.Dropout(0.1))\n",
    "model.add(layers.Dense(1,kernel_initializer='normal'))\n",
    "\n",
    "learning_rate = 0.001\n",
    "momentum = 0.8\n",
    "\n",
    "sgd = SGD(lr=learning_rate, momentum=momentum,nesterov=False)\n",
    "model.compile(loss='mean_squared_error', optimizer=sgd)\n",
    "model.summary()"
   ]
  },
  {
   "cell_type": "code",
   "execution_count": 6,
   "id": "dcf76267-1c19-4b7e-ba9b-e5269b3c0178",
   "metadata": {},
   "outputs": [],
   "source": [
    "def legal_moves_generator(current_board_state):\n",
    "    \"\"\"Function that returns the set of all possible legal moves and resulting board states, \n",
    "    for a given input board state and player\n",
    "\n",
    "    Args:\n",
    "    current_board_state: The current board state\n",
    "\n",
    "\n",
    "    Returns:\n",
    "    legal_moves_dict: A dictionary of a list of possible next coordinate-resulting board state pairs\n",
    "    The resulting board state is flattened to 1 d array\n",
    "\n",
    "    \"\"\"\n",
    "    current_board_state = np.array(current_board_state).reshape(3,3)\n",
    "    legal_moves_dict={}\n",
    "    for i in range(current_board_state.shape[0]):\n",
    "        for j in range(current_board_state.shape[1]):\n",
    "            if current_board_state[i,j]==0:\n",
    "                board_state_copy=current_board_state.copy()\n",
    "                legal_moves_dict[(i,j)]=board_state_copy.flatten()\n",
    "    return legal_moves_dict"
   ]
  },
  {
   "cell_type": "code",
   "execution_count": 7,
   "id": "fcaf3b97-5435-4aa1-a731-3c30f609a935",
   "metadata": {},
   "outputs": [],
   "source": [
    "4, 5, 0, 3, 6, 1, 8\n",
    "    selected_move=max(tracker, key=tracker.get)\n",
    "\n",
    "    new_board_state=legal_moves_dict[selected_move]\n",
    "    score=tracker[selected_move]\n",
    "\n",
    "    return selected_move,new_board_state,score\n"
   ]
  },
  {
   "cell_type": "code",
   "execution_count": null,
   "id": "54a92136-11c5-42a6-94cf-ca916f4869b8",
   "metadata": {},
   "outputs": [],
   "source": []
  },
  {
   "cell_type": "code",
   "execution_count": 11,
   "id": "7631bd07-c77d-4ed2-8c39-92f7bdd74102",
   "metadata": {},
   "outputs": [
    {
     "name": "stdout",
     "output_type": "stream",
     "text": [
      " | | \n",
      "-+-+-\n",
      " | | \n",
      "-+-+-\n",
      " | | \n",
      "\n",
      "Player X's Turn\n",
      "\n",
      "Choose a place to put your piece using the following guide:\n",
      "0|1|2\n",
      "-+-+-\n",
      "3|4|5\n",
      "-+-+-\n",
      "6|7|8\n",
      "\n"
     ]
    },
    {
     "name": "stdin",
     "output_type": "stream",
     "text": [
      "Where would you like to place your piece? 0\n"
     ]
    },
    {
     "name": "stdout",
     "output_type": "stream",
     "text": [
      "X| | \n",
      "-+-+-\n",
      " | | \n",
      "-+-+-\n",
      " | | \n",
      "\n",
      "Player O's Turn\n",
      "Generating random move for O\n",
      "X|O| \n",
      "-+-+-\n",
      " | | \n",
      "-+-+-\n",
      " | | \n",
      "\n",
      "Player X's Turn\n",
      "\n",
      "Choose a place to put your piece using the following guide:\n",
      "0|1|2\n",
      "-+-+-\n",
      "3|4|5\n",
      "-+-+-\n",
      "6|7|8\n",
      "\n"
     ]
    },
    {
     "name": "stdin",
     "output_type": "stream",
     "text": [
      "Where would you like to place your piece? 3\n"
     ]
    },
    {
     "name": "stdout",
     "output_type": "stream",
     "text": [
      "X|O| \n",
      "-+-+-\n",
      "X| | \n",
      "-+-+-\n",
      " | | \n",
      "\n",
      "Player O's Turn\n",
      "Generating random move for O\n",
      "X|O|O\n",
      "-+-+-\n",
      "X| | \n",
      "-+-+-\n",
      " | | \n",
      "\n",
      "Player X's Turn\n",
      "\n",
      "Choose a place to put your piece using the following guide:\n",
      "0|1|2\n",
      "-+-+-\n",
      "3|4|5\n",
      "-+-+-\n",
      "6|7|8\n",
      "\n"
     ]
    },
    {
     "name": "stdin",
     "output_type": "stream",
     "text": [
      "Where would you like to place your piece? 6\n"
     ]
    },
    {
     "name": "stdout",
     "output_type": "stream",
     "text": [
      "Player X Wins\n",
      "X|O|O\n",
      "-+-+-\n",
      "X| | \n",
      "-+-+-\n",
      "X| | \n",
      "\n"
     ]
    }
   ],
   "source": [
    "import os\n",
    "import random\n",
    "import copy\n",
    "\n",
    "#X's are 1, O's are -1, empty is 0\n",
    "#check if 3 in a row has been made\n",
    "def checkWin(board):\n",
    "    win = 0\n",
    "    winningLines = [[0, 1, 2],[3, 4, 5],[6, 7, 8],[0, 3, 6],[1, 4, 7],[2, 5, 8],[0, 4, 8],[2, 4, 6]]\n",
    "    for x in winningLines:\n",
    "        if( board[x[0]]==1 and  board[x[1]]==1 and  board[x[2]]==1):\n",
    "            win = 1\n",
    "        elif(board[x[0]]==-1 and  board[x[1]]==-1 and  board[x[2]]==-1):\n",
    "            win = -1\n",
    "    return win\n",
    "#find which parts of the array are available\n",
    "def findLegalMoves(board):\n",
    "    legalMoves=[]\n",
    "    for i in range(len(board)):\n",
    "        if board[i] == 0:\n",
    "            legalMoves.append(i)\n",
    "    return legalMoves\n",
    "\n",
    "#why didn't I use a dictionary\n",
    "def createBoard(board):\n",
    "    physicalBoard=[]\n",
    "    for x in board:\n",
    "        if x == -1:\n",
    "            physicalBoard.append('O')\n",
    "        elif x == 1:\n",
    "            physicalBoard.append('X')\n",
    "        elif x == 0:\n",
    "            physicalBoard.append(\" \")\n",
    "\n",
    "    return physicalBoard\n",
    "#display board\n",
    "def printBoard(board):\n",
    "    physicalBoard = createBoard(board)\n",
    "\n",
    "    print(physicalBoard[0]+\"|\"+physicalBoard[1]+\"|\"+physicalBoard[2])\n",
    "    print(\"-+-+-\")\n",
    "    print(physicalBoard[3]+\"|\"+physicalBoard[4]+\"|\"+physicalBoard[5])\n",
    "    print(\"-+-+-\")\n",
    "    print(physicalBoard[6]+\"|\"+physicalBoard[7]+\"|\"+physicalBoard[8]+\"\\n\")\n",
    "def printHelpBoard():\n",
    "    print(\"\\nChoose a place to put your piece using the following guide:\")\n",
    "    print(\"0\"+\"|\"+\"1\"+\"|\"+\"2\")\n",
    "    print(\"-+-+-\")\n",
    "    print(\"3\"+\"|\"+\"4\"+\"|\"+\"5\")\n",
    "    print(\"-+-+-\")\n",
    "    print(\"6\"+\"|\"+\"7\"+\"|\"+\"8\\n\")\n",
    "\n",
    "\n",
    "\n",
    "#initialize empty board\n",
    "board = [0,0,0, 0,0,0 ,0,0,0]\n",
    "#begin counting pieces played\n",
    "piecesPlayed = 0\n",
    "gameOver = False\n",
    "\n",
    "#load model\n",
    "model =  keras.models.load_model(\"tictactoe1000_model.h5\")\n",
    "\n",
    "while(piecesPlayed<9 and gameOver == False):\n",
    "    #display empty board\n",
    "    printBoard(board)\n",
    "    #find legal moves\n",
    "    legalMoves = findLegalMoves(board)\n",
    "    playerInput=-1\n",
    "    #State which player moves\n",
    "    if(piecesPlayed%2==0):\n",
    "        print(\"Player X's Turn\")\n",
    "        while (playerInput<0 or playerInput>8 or playerInput not in legalMoves):\n",
    "            printHelpBoard()\n",
    "            playerInput = int(input(\"Where would you like to place your piece?\"))\n",
    "            if playerInput not in legalMoves:\n",
    "                print(\"Please choose a legal move.\")\n",
    "            elif( playerInput <0 or playerInput >8):\n",
    "                print(\"Please choose a move in the game.\")\n",
    "            else:\n",
    "                board[playerInput]=1\n",
    "    else:\n",
    "        print(\"Player O's Turn\")\n",
    "        print(\"Generating random move for O\")\n",
    "        playerInput,board,score=move_selector(model,board)\n",
    "        playerInput=playerInput[0]*3+playerInput[1]\n",
    "        board[playerInput]=-1\n",
    "\n",
    "    piecesPlayed = piecesPlayed + 1\n",
    "    win = checkWin(board)\n",
    "    if (win == 1):\n",
    "        print(\"Player X Wins\")\n",
    "        gameOver = True\n",
    "        printBoard(board)\n",
    "    elif(win == -1):\n",
    "        print(\"Player O Wins\")\n",
    "        gameOver = True\n",
    "        printBoard(board)\n",
    "    elif(piecesPlayed == 9):\n",
    "        print(\"Game is a draw.\")\n",
    "        gameOver = True\n",
    "        printBoard(board)\n"
   ]
  },
  {
   "cell_type": "code",
   "execution_count": null,
   "id": "1568dc0a-545c-463f-9720-83e39156d7bc",
   "metadata": {},
   "outputs": [],
   "source": []
  },
  {
   "cell_type": "code",
   "execution_count": null,
   "id": "ab2813d3-6220-4a93-b428-be1e9a7bd05c",
   "metadata": {},
   "outputs": [],
   "source": []
  }
 ],
 "metadata": {
  "kernelspec": {
   "display_name": "Python 3",
   "language": "python",
   "name": "python3"
  },
  "language_info": {
   "codemirror_mode": {
    "name": "ipython",
    "version": 3
   },
   "file_extension": ".py",
   "mimetype": "text/x-python",
   "name": "python",
   "nbconvert_exporter": "python",
   "pygments_lexer": "ipython3",
   "version": "3.7.10"
  }
 },
 "nbformat": 4,
 "nbformat_minor": 5
}
