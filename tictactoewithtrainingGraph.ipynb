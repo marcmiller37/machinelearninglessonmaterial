{
 "cells": [
  {
   "cell_type": "code",
   "execution_count": 1,
   "id": "99d09153-2a1c-4d2a-8cc4-272c6734e86c",
   "metadata": {},
   "outputs": [],
   "source": [
    "import tensorflow as tf\n",
    "from tensorflow import keras\n",
    "from tensorflow.keras import datasets, layers, models\n",
    "import matplotlib.pyplot as plt\n",
    "import numpy as np\n",
    "from tensorflow.keras.optimizers import SGD\n",
    "from scipy.ndimage.interpolation import shift\n",
    "import pandas as pd "
   ]
  },
  {
   "cell_type": "code",
   "execution_count": 2,
   "id": "64df1e5a-11cd-44df-997f-a88d049a27c7",
   "metadata": {},
   "outputs": [
    {
     "name": "stdout",
     "output_type": "stream",
     "text": [
      "['1, 1, 5, 4, 3, 0, 8, 7', '-1, 4, 8, 1, 6, 0, 2, 3, 5', '-1, 4, 3, 5, 0, 7, 1, 6, 2', '-1, 7, 0, 5, 8, 6, 4', '-1, 6, 5, 0, 8, 1, 4, 7, 2', '1, 5, 4, 7, 3, 2, 0, 6, 1, 8', '1, 4, 0, 8, 3, 7, 5, 6', '1, 4, 3, 8, 5, 1, 7, 2, 0, 6', '1, 4, 6, 5, 2, 3', '-1, 5, 4, 0, 1, 2, 7']\n"
     ]
    }
   ],
   "source": [
    "with open(\"history.txt\",'r') as historyFile:\n",
    "        lines = historyFile.readlines()\n",
    "        gamehistory=[]\n",
    "        for x in lines:\n",
    "            x=x[1:]\n",
    "            x=x[:-2]\n",
    "            gamehistory.append(x)\n",
    "        print(gamehistory)\n",
    "\n",
    "        "
   ]
  },
  {
   "cell_type": "code",
   "execution_count": 3,
   "id": "a0104fb8-079a-4f09-9b46-faf73285ec8f",
   "metadata": {},
   "outputs": [
    {
     "name": "stdout",
     "output_type": "stream",
     "text": [
      "[-1, -1, -1, -1, -1]\n",
      "['1, 4, 8, 1, 6, 0, 2, 3, 5', '1, 4, 3, 5, 0, 7, 1, 6, 2', '1, 7, 0, 5, 8, 6, 4', '1, 6, 5, 0, 8, 1, 4, 7, 2', '1, 5, 4, 0, 1, 2, 7']\n"
     ]
    }
   ],
   "source": [
    "inputGame=[]\n",
    "output=[]\n",
    "\n",
    "for games in gamehistory:\n",
    "    if(games[0]=='-'):\n",
    "        inputGame.append(-1)\n",
    "        output.append(games[1:])\n",
    "    \n",
    "print(inputGame)\n",
    "print(output)"
   ]
  },
  {
   "cell_type": "code",
   "execution_count": 4,
   "id": "71aea3c1-88d9-416b-8716-4efde01297c3",
   "metadata": {},
   "outputs": [],
   "source": [
    "def createData(dataset):\n",
    "        inputGame = []\n",
    "        output = []\n",
    "        for data in dataset:\n",
    "            inputGame.append(data[1])\n",
    "            output.append(data[0])\n",
    "\n",
    "        X = np.array(inputGame).reshape((-1, len(inputGame)))\n",
    "        y = to_categorical(output, num_classes=3)\n",
    "        # Train and test data split\n",
    "        boundary = int(0.8 * len(X))\n",
    "        x_train = X[:boundary]\n",
    "        x_test = X[boundary:]\n",
    "        y_train = y[:boundary]\n",
    "        y_test = y[boundary:]\n"
   ]
  },
  {
   "cell_type": "code",
   "execution_count": 5,
   "id": "2d49c1d6-1051-4f33-b509-12f18ac5dd9f",
   "metadata": {},
   "outputs": [
    {
     "name": "stdout",
     "output_type": "stream",
     "text": [
      "Model: \"sequential\"\n",
      "_________________________________________________________________\n",
      "Layer (type)                 Output Shape              Param #   \n",
      "=================================================================\n",
      "dense (Dense)                (None, 18)                180       \n",
      "_________________________________________________________________\n",
      "dropout (Dropout)            (None, 18)                0         \n",
      "_________________________________________________________________\n",
      "dense_1 (Dense)              (None, 9)                 171       \n",
      "_________________________________________________________________\n",
      "dropout_1 (Dropout)          (None, 9)                 0         \n",
      "_________________________________________________________________\n",
      "dense_2 (Dense)              (None, 1)                 10        \n",
      "=================================================================\n",
      "Total params: 361\n",
      "Trainable params: 361\n",
      "Non-trainable params: 0\n",
      "_________________________________________________________________\n"
     ]
    }
   ],
   "source": [
    "model = keras.Sequential()\n",
    "model.add(layers.Dense(18, input_dim=9,kernel_initializer='normal', activation='relu'))\n",
    "model.add(layers.Dropout(0.1))\n",
    "model.add(layers.Dense(9, kernel_initializer='normal',activation='relu'))\n",
    "model.add(layers.Dropout(0.1))\n",
    "model.add(layers.Dense(1,kernel_initializer='normal'))\n",
    "\n",
    "learning_rate = 0.001\n",
    "momentum = 0.8\n",
    "\n",
    "sgd = SGD(lr=learning_rate, momentum=momentum,nesterov=False)\n",
    "model.compile(loss='mean_squared_error', optimizer=sgd)\n",
    "model.summary()"
   ]
  },
  {
   "cell_type": "code",
   "execution_count": 6,
   "id": "dcf76267-1c19-4b7e-ba9b-e5269b3c0178",
   "metadata": {},
   "outputs": [],
   "source": [
    "def legal_moves_generator(current_board_state):\n",
    "    \"\"\"Function that returns the set of all possible legal moves and resulting board states, \n",
    "    for a given input board state and player\n",
    "\n",
    "    Args:\n",
    "    current_board_state: The current board state\n",
    "\n",
    "\n",
    "    Returns:\n",
    "    legal_moves_dict: A dictionary of a list of possible next coordinate-resulting board state pairs\n",
    "    The resulting board state is flattened to 1 d array\n",
    "\n",
    "    \"\"\"\n",
    "    current_board_state = np.array(current_board_state).reshape(3,3)\n",
    "    legal_moves_dict={}\n",
    "    for i in range(current_board_state.shape[0]):\n",
    "        for j in range(current_board_state.shape[1]):\n",
    "            if current_board_state[i,j]==0:\n",
    "                board_state_copy=current_board_state.copy()\n",
    "                legal_moves_dict[(i,j)]=board_state_copy.flatten()\n",
    "    return legal_moves_dict"
   ]
  },
  {
   "cell_type": "code",
   "execution_count": 7,
   "id": "fcaf3b97-5435-4aa1-a731-3c30f609a935",
   "metadata": {},
   "outputs": [],
   "source": [
    "def move_selector(model,current_board_state):\n",
    "    current_board_state = np.array(current_board_state).reshape(3,3)\n",
    "    tracker={}\n",
    "    legal_moves_dict=legal_moves_generator(current_board_state)\n",
    "    for legal_move_coord in legal_moves_dict:\n",
    "        score=model.predict(legal_moves_dict[legal_move_coord].reshape(1,9))\n",
    "        tracker[legal_move_coord]=score\n",
    "\n",
    "    selected_move=max(tracker, key=tracker.get)\n",
    "\n",
    "    new_board_state=legal_moves_dict[selected_move]\n",
    "    score=tracker[selected_move]\n",
    "\n",
    "    return selected_move,new_board_state,score\n"
   ]
  },
  {
   "cell_type": "code",
   "execution_count": null,
   "id": "54a92136-11c5-42a6-94cf-ca916f4869b8",
   "metadata": {},
   "outputs": [],
   "source": []
  },
  {
   "cell_type": "code",
   "execution_count": 8,
   "id": "7631bd07-c77d-4ed2-8c39-92f7bdd74102",
   "metadata": {},
   "outputs": [],
   "source": [
    "import os\n",
    "import random\n",
    "import copy\n",
    "\n",
    "#X's are 1, O's are -1, empty is 0\n",
    "#check if 3 in a row has been made\n",
    "def checkWin(board):\n",
    "    win = 0\n",
    "    winningLines = [[0, 1, 2],[3, 4, 5],[6, 7, 8],[0, 3, 6],[1, 4, 7],[2, 5, 8],[0, 4, 8],[2, 4, 6]]\n",
    "    for x in winningLines:\n",
    "        if( board[x[0]]==1 and  board[x[1]]==1 and  board[x[2]]==1):\n",
    "            win = 1\n",
    "        elif(board[x[0]]==-1 and  board[x[1]]==-1 and  board[x[2]]==-1):\n",
    "            win = -1\n",
    "    return win\n",
    "#find which parts of the array are available\n",
    "def findLegalMoves(board):\n",
    "    legalMoves=[]\n",
    "    for i in range(len(board)):\n",
    "        if board[i] == 0:\n",
    "            legalMoves.append(i)\n",
    "    return legalMoves\n",
    "\n",
    "#why didn't I use a dictionary\n",
    "def createBoard(board):\n",
    "    physicalBoard=[]\n",
    "    for x in board:\n",
    "        if x == -1:\n",
    "            physicalBoard.append('O')\n",
    "        elif x == 1:\n",
    "            physicalBoard.append('X')\n",
    "        elif x == 0:\n",
    "            physicalBoard.append(\" \")\n",
    "\n",
    "    return physicalBoard\n",
    "#display board\n",
    "def printBoard(board):\n",
    "    physicalBoard = createBoard(board)\n",
    "\n",
    "    print(physicalBoard[0]+\"|\"+physicalBoard[1]+\"|\"+physicalBoard[2])\n",
    "    print(\"-+-+-\")\n",
    "    print(physicalBoard[3]+\"|\"+physicalBoard[4]+\"|\"+physicalBoard[5])\n",
    "    print(\"-+-+-\")\n",
    "    print(physicalBoard[6]+\"|\"+physicalBoard[7]+\"|\"+physicalBoard[8]+\"\\n\")\n",
    "def printHelpBoard():\n",
    "    print(\"\\nChoose a place to put your piece using the following guide:\")\n",
    "    print(\"0\"+\"|\"+\"1\"+\"|\"+\"2\")\n",
    "    print(\"-+-+-\")\n",
    "    print(\"3\"+\"|\"+\"4\"+\"|\"+\"5\")\n",
    "    print(\"-+-+-\")\n",
    "    print(\"6\"+\"|\"+\"7\"+\"|\"+\"8\\n\")\n",
    "\n",
    "\n"
   ]
  },
  {
   "cell_type": "code",
   "execution_count": 9,
   "id": "a423e69c-2f8b-4714-a231-9b4ee851cdd6",
   "metadata": {},
   "outputs": [],
   "source": [
    "def opponent_move_selector(current_board_state):\n",
    "    current_board_state = np.array(current_board_state).reshape(3,3)\n",
    "\n",
    "    legal_moves_dict=legal_moves_generator(current_board_state)\n",
    "    selected_move = random.choice(list(legal_moves_dict.keys()))\n",
    "    selected_move = selected_move[0]*3+selected_move[1]\n",
    "\n",
    "    \n",
    "    \n",
    "    return selected_move"
   ]
  },
  {
   "cell_type": "code",
   "execution_count": 10,
   "id": "cb8ee1a0-644b-4093-bf0e-acedba72c73a",
   "metadata": {},
   "outputs": [],
   "source": [
    "def train(model):\n",
    "    \"\"\"Function trains the Evaluator (model) by playing a game against an opponent \n",
    "    playing random moves, and updates the weights of the model after the game\n",
    "    \n",
    "    Note that the model weights are updated using SGD with a batch size of 1\n",
    "\n",
    "    Args:\n",
    "    model: The Evaluator function being trained\n",
    "\n",
    "    Returns:\n",
    "    model: The model updated using SGD\n",
    "    y: The corrected scores\n",
    "\n",
    "    \"\"\" \n",
    "    # start the game\n",
    "    board=[0,0,0,0,0,0,0,0,0]\n",
    "    scores_list=[]\n",
    "    corrected_scores_list=[]\n",
    "    new_board_states_list=[]\n",
    "    piecesPlayed = 0\n",
    "    #while game going\n",
    "    while(piecesPlayed<9):\n",
    "         #if x's turn\n",
    "            if(piecesPlayed%2==0):\n",
    "                selectedMove= opponent_move_selector(board)\n",
    "                board[selectedMove]=1\n",
    "            #else if programs turn   \n",
    "            else:\n",
    "                selected_move,new_board_state,score=move_selector(model,board)\n",
    "                scores_list.append(score[0][0])\n",
    "                new_board_states_list.append(new_board_state)\n",
    "                # Make the next move\n",
    "                selected_move=selected_move[0]*3+selected_move[1]\n",
    "                board[selected_move]=-1                       \n",
    "            piecesPlayed = piecesPlayed + 1\n",
    "            win = checkWin(board)\n",
    "            if (win == 1):\n",
    "                gameOver = True\n",
    "\n",
    "            elif(win == -1):\n",
    "\n",
    "                gameOver = True\n",
    "\n",
    "            elif(piecesPlayed == 9):\n",
    "\n",
    "                gameOver = True\n",
    "\n",
    "\n",
    "    \n",
    "    # Correct the scores, assigning 1/0/-1 to the winning/drawn/losing final board state, \n",
    "    # and assigning the other previous board states the score of their next board state\n",
    "    new_board_states_list=tuple(new_board_states_list)\n",
    "    new_board_states_list=np.vstack(new_board_states_list)\n",
    "    if (win==-1): \n",
    "        corrected_scores_list=shift(scores_list,-1,cval=1.0)\n",
    "        result=\"Won\"\n",
    "    elif (win==1):\n",
    "        corrected_scores_list=shift(scores_list,-1,cval=-1.0)\n",
    "        result=\"Lost\"\n",
    "    elif (win==0):\n",
    "        corrected_scores_list=shift(scores_list,-1,cval=0.0)\n",
    "        result=\"Drawn\"\n",
    "        \n",
    "    x=new_board_states_list\n",
    "    y=corrected_scores_list\n",
    "    \n",
    "    def unison_shuffled_copies(a, b):\n",
    "        assert len(a) == len(b)\n",
    "        p = np.random.permutation(len(a))\n",
    "        return a[p], b[p]\n",
    "    \n",
    "    # shuffle x and y in unison\n",
    "    x,y=unison_shuffled_copies(x,y)\n",
    "    x=x.reshape(-1,9) \n",
    "    \n",
    "    # update the weights of the model, one record at a time\n",
    "    model.fit(x,y,epochs=1,batch_size=1,verbose=0)\n",
    "    return model,y,result"
   ]
  },
  {
   "cell_type": "code",
   "execution_count": 11,
   "id": "ab2813d3-6220-4a93-b428-be1e9a7bd05c",
   "metadata": {},
   "outputs": [
    {
     "name": "stdout",
     "output_type": "stream",
     "text": [
      "Game number:972done.\n",
      "Game number:973done.\n",
      "Game number:974done.\n",
      "Game number:975done.\n",
      "Game number:976done.\n",
      "Game number:977done.\n",
      "Game number:978done.\n",
      "Game number:979done.\n",
      "Game number:980done.\n",
      "Game number:981done.\n",
      "Game number:982done.\n",
      "Game number:983done.\n",
      "Game number:984done.\n",
      "Game number:985done.\n",
      "Game number:986done.\n",
      "Game number:987done.\n",
      "Game number:988done.\n",
      "Game number:989done.\n",
      "Game number:990done.\n",
      "Game number:991done.\n",
      "Game number:992done.\n",
      "Game number:993done.\n",
      "Game number:994done.\n",
      "Game number:995done.\n",
      "Game number:996done.\n",
      "Game number:997done.\n",
      "Game number:998done.\n",
      "Game number:999done.\n",
      "Game number:1000done.\n",
      "Game number:1001done.\n",
      "Done processing games.\n"
     ]
    }
   ],
   "source": [
    "game_counter=1\n",
    "data_for_graph=pd.DataFrame()\n",
    "while(game_counter<=1000):\n",
    "    model,y,result=train(model)\n",
    "    data_for_graph=data_for_graph.append({\"game_counter\":game_counter,\"result\":result},ignore_index=True)\n",
    "    game_counter+=1\n",
    "    print(\"Game number:\"+str(game_counter)+\"done.\")\n",
    "print(\"Done processing games.\")"
   ]
  },
  {
   "cell_type": "code",
   "execution_count": 14,
   "id": "4e96b8a8-404c-4da9-beda-df1d3922c316",
   "metadata": {},
   "outputs": [
    {
     "data": {
      "text/plain": [
       "Text(0.5, 1.0, 'Distribution of Results Vs Count of Games Played')"
      ]
     },
     "execution_count": 14,
     "metadata": {},
     "output_type": "execute_result"
    },
    {
     "data": {
      "image/png": "[encoded data removed]",
      "text/plain": [
       "<Figure size 1224x360 with 1 Axes>"
      ]
     },
     "metadata": {
      "needs_background": "light"
     },
     "output_type": "display_data"
    }
   ],
   "source": [
    "bins = np.arange(1, game_counter/10000) * 10000\n",
    "data_for_graph['game_counter_bins'] = np.digitize(data_for_graph[\"game_counter\"], bins, right=True)\n",
    "counts = data_for_graph.groupby(['game_counter_bins', 'result']).game_counter.count().unstack()\n",
    "ax=counts.plot(kind='bar', stacked=True,figsize=(17,5))\n",
    "ax.set_xlabel(\"Count of Games in Bins of 10,000s\")\n",
    "ax.set_ylabel(\"Counts of Draws/Losses/Wins\")\n",
    "ax.set_title('Distribution of Results Vs Count of Games Played')"
   ]
  },
  {
   "cell_type": "code",
   "execution_count": 16,
   "id": "1401839f-287a-4ff3-8c47-fe6618843642",
   "metadata": {},
   "outputs": [],
   "source": [
    "model.save('tictactoe1000_model.h5')"
   ]
  },
  {
   "cell_type": "code",
   "execution_count": null,
   "id": "07b8a088-5d30-44eb-be6a-e73e5e7e6a58",
   "metadata": {},
   "outputs": [],
   "source": []
  }
 ],
 "metadata": {
  "kernelspec": {
   "display_name": "Python 3",
   "language": "python",
   "name": "python3"
  },
  "language_info": {
   "codemirror_mode": {
    "name": "ipython",
    "version": 3
   },
   "file_extension": ".py",
   "mimetype": "text/x-python",
   "name": "python",
   "nbconvert_exporter": "python",
   "pygments_lexer": "ipython3",
   "version": "3.7.10"
  }
 },
 "nbformat": 4,
 "nbformat_minor": 5
}
